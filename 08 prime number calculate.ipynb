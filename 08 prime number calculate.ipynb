{
 "cells": [
  {
   "cell_type": "code",
   "execution_count": 1,
   "metadata": {},
   "outputs": [
    {
     "name": "stdout",
     "output_type": "stream",
     "text": [
      "It's a prime number.\n"
     ]
    }
   ],
   "source": [
    "# Write your code below this line 👇\n",
    "\n",
    "def prime_checker(number):\n",
    "    \"\"\"Check if a number is prime.\"\"\"\n",
    "    if number <= 1:\n",
    "        print(\"It's not a prime number.\")\n",
    "        return\n",
    "    if number == 2:\n",
    "        print(\"It's a prime number.\")\n",
    "        return\n",
    "    if number % 2 == 0:\n",
    "        print(\"It's not a prime number.\")\n",
    "        return\n",
    "    \n",
    "    # Check for factors from 3 to the square root of the number\n",
    "    for i in range(3, int(number**0.5) + 1, 2):\n",
    "        if number % i == 0:\n",
    "            print(\"It's not a prime number.\")\n",
    "            return\n",
    "    print(\"It's a prime number.\")\n",
    "\n",
    "\n",
    "\n",
    "\n",
    "# Write your code above this line 👆\n",
    "    \n",
    "#Do NOT change any of the code below👇\n",
    "n = int(input()) # Check this number\n",
    "prime_checker(number=n)"
   ]
  },
  {
   "cell_type": "code",
   "execution_count": null,
   "metadata": {},
   "outputs": [],
   "source": [
    "def prime_checker(number):\n",
    "    is_prime = True  # Assume the number is prime initially\n",
    "    for i in range(2, number):  # Loop from 2 to number-1\n",
    "        if number % i == 0:  # If number is divisible by i\n",
    "            is_prime = False  # It's not a prime number\n",
    "    if is_prime:  # After the loop, check if is_prime is still True\n",
    "        print(\"It's a prime number.\")  # If so, it's a prime number\n",
    "    else:  # If is_prime is False\n",
    "        print(\"It's not a prime number.\")  # It's not a prime number\n",
    "\n",
    "# Your code above this line 👆\n",
    "n = int(input())  # Get user input and convert it to an integer\n",
    "prime_checker(number=n)  # Call the function with the input number\n"
   ]
  }
 ],
 "metadata": {
  "kernelspec": {
   "display_name": "base",
   "language": "python",
   "name": "python3"
  },
  "language_info": {
   "codemirror_mode": {
    "name": "ipython",
    "version": 3
   },
   "file_extension": ".py",
   "mimetype": "text/x-python",
   "name": "python",
   "nbconvert_exporter": "python",
   "pygments_lexer": "ipython3",
   "version": "3.11.0"
  }
 },
 "nbformat": 4,
 "nbformat_minor": 2
}
