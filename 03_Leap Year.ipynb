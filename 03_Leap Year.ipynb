{
 "cells": [
  {
   "cell_type": "code",
   "execution_count": null,
   "metadata": {},
   "outputs": [],
   "source": [
    "# Which year do you want to check?\n",
    "year = int(input())\n",
    "# 🚨 Don't change the code above 👆\n",
    "\n",
    "# Write your code below this line 👇\n",
    "\n",
    "if year % 4 == 0:\n",
    "  if year % 100 == 0:\n",
    "    if year % 400 == 0:\n",
    "      print(\"Leap year\")\n",
    "    else:\n",
    "      print(\"Not leap year\")\n",
    "  else:\n",
    "    print(\"Leap year\")\n",
    "else:\n",
    "  print(\"Not leap year\")\n"
   ]
  }
 ],
 "metadata": {
  "language_info": {
   "name": "python"
  }
 },
 "nbformat": 4,
 "nbformat_minor": 2
}
