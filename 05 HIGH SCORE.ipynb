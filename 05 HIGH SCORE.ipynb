{
 "cells": [
  {
   "cell_type": "code",
   "execution_count": null,
   "metadata": {},
   "outputs": [],
   "source": [
    "# Input a list of student scores\n",
    "#input example= 78 65 89 86 55 91 64 89\n",
    "student_scores = input().split()\n",
    "for n in range(0, len(student_scores)):\n",
    "  student_scores[n] = int(student_scores[n])\n",
    "\n",
    "# Write your code below this row 👇\n",
    "acumulate = 0\n",
    "\n",
    "for score in student_scores:\n",
    "  if acumulate < score:\n",
    "    acumulate = score\n",
    "\n",
    "print(f\"The highest score in the class is: {acumulate}\")"
   ]
  }
 ],
 "metadata": {
  "language_info": {
   "name": "python"
  }
 },
 "nbformat": 4,
 "nbformat_minor": 2
}
