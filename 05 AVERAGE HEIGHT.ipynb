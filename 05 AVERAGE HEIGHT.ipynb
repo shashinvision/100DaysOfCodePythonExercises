{
 "cells": [
  {
   "cell_type": "code",
   "execution_count": null,
   "metadata": {},
   "outputs": [],
   "source": [
    "# Input a Python list of student heights\n",
    "# example input: 151 145 179\n",
    "student_heights = input().split()\n",
    "for n in range(0, len(student_heights)):\n",
    "  student_heights[n] = int(student_heights[n])\n",
    "# 🚨 Don't change the code above 👆\n",
    "  \n",
    "# Write your code below this row 👇\n",
    "\n",
    "sum = 0\n",
    "for student in student_heights:\n",
    "    sum += student\n",
    "print(f\"total height = {sum}\")\n",
    "print(f\"number of students = {len(student_heights)}\")\n",
    "print(f\"average height = {round(sum/len(student_heights))}\")\n",
    "\n",
    "\n"
   ]
  },
  {
   "cell_type": "code",
   "execution_count": null,
   "metadata": {},
   "outputs": [],
   "source": [
    "# Input a Python list of student heights\n",
    "student_heights = input().split()\n",
    "for n in range(0, len(student_heights)):\n",
    "  student_heights[n] = int(student_heights[n])\n",
    "# Your code below this row 👇\n",
    "total_height = 0\n",
    "for height in student_heights:\n",
    "  total_height += height\n",
    "print(f\"total height = {total_height}\")\n",
    "\n",
    "number_of_students = 0\n",
    "for student in student_heights:\n",
    "  number_of_students += 1\n",
    "print(f\"number of students = {number_of_students}\")\n",
    "\n",
    "average_height = round(total_height / number_of_students)\n",
    "print(f\"average height = {average_height}\")"
   ]
  }
 ],
 "metadata": {
  "language_info": {
   "name": "python"
  }
 },
 "nbformat": 4,
 "nbformat_minor": 2
}
