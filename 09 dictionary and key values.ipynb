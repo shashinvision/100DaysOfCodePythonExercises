{
 "cells": [
  {
   "cell_type": "code",
   "execution_count": null,
   "metadata": {},
   "outputs": [],
   "source": [
    "student_scores = {\n",
    "  \"Harry\": 81,\n",
    "  \"Ron\": 78,\n",
    "  \"Hermione\": 99, \n",
    "  \"Draco\": 74,\n",
    "  \"Neville\": 62,\n",
    "}\n",
    "# 🚨 Don't change the code above 👆\n",
    "# TODO-1: Create an empty dictionary called student_grades.\n",
    "student_grades = {}\n",
    "\n",
    "# TODO-2: Write your code below to add the grades to student_grades.👇\n",
    "\n",
    "for student in student_scores:\n",
    "  if student_scores[student] >= 91 and student_scores[student] <= 100:\n",
    "    student_grades[student] = \"Outstanding\"\n",
    "  elif student_scores[student] >= 81 and student_scores[student] <= 90:\n",
    "    student_grades[student] = \"Exceeds Expectations\"\n",
    "  elif student_scores[student] >= 71 and student_scores[student] <= 80:\n",
    "    student_grades[student] = \"Acceptable\"  \n",
    "  elif student_scores[student] <= 70:\n",
    "    student_grades[student] = \"Fail\"    \n",
    "\n",
    "# 🚨 Don't change the code below 👇\n",
    "print(student_grades)"
   ]
  },
  {
   "cell_type": "code",
   "execution_count": null,
   "metadata": {},
   "outputs": [],
   "source": [
    "student_scores = {\n",
    "  \"Harry\": 81,\n",
    "  \"Ron\": 78,\n",
    "  \"Hermione\": 99, \n",
    "  \"Draco\": 74,\n",
    "  \"Neville\": 62,\n",
    "}\n",
    "\n",
    "# TODO-1: Create an empty dictionary called student_grades.\n",
    "student_grades = {}\n",
    "\n",
    "# TODO-2: Covert scores into grades.\n",
    "for student in student_scores:\n",
    "  score = student_scores[student]\n",
    "  if score > 90:\n",
    "    student_grades[student] = \"Outstanding\"\n",
    "  elif score > 80:\n",
    "    student_grades[student] = \"Exceeds Expectations\"\n",
    "  elif score > 70:\n",
    "    student_grades[student] = \"Acceptable\"\n",
    "  else:\n",
    "    student_grades[student] = \"Fail\"\n",
    "    \n",
    "print(student_grades)"
   ]
  }
 ],
 "metadata": {
  "language_info": {
   "name": "python"
  }
 },
 "nbformat": 4,
 "nbformat_minor": 2
}
