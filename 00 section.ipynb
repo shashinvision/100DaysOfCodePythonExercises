{
 "cells": [
  {
   "cell_type": "markdown",
   "metadata": {},
   "source": [
    "100 Days of Code - Python Exercises\n",
    "https://app.auditorium.ai/courses/eelyNMYJKXeNJAbjssSEQz0m88XvnhX6"
   ]
  },
  {
   "cell_type": "code",
   "execution_count": 4,
   "metadata": {},
   "outputs": [
    {
     "name": "stdout",
     "output_type": "stream",
     "text": [
      "1. Mix 500g of Flour, 10g Yeast and 300ml Water in a bowl.\n",
      "2. Knead the dough for 10 minutes.\n",
      "3. Add 3g of Salt.\n",
      "4. Leave to rise for 2 hours.\n",
      "5. Bake at 200 degrees C for 30 minutes.\n"
     ]
    }
   ],
   "source": [
    "elements = [\"1. Mix 500g of Flour, 10g Yeast and 300ml Water in a bowl.\", \"2. Knead the dough for 10 minutes.\", \"3. Add 3g of Salt.\", \"4. Leave to rise for 2 hours.\", \"5. Bake at 200 degrees C for 30 minutes.\"]\n",
    "for element in elements:\n",
    "  print(element)"
   ]
  },
  {
   "cell_type": "code",
   "execution_count": 6,
   "metadata": {},
   "outputs": [
    {
     "name": "stdout",
     "output_type": "stream",
     "text": [
      "She said: \"Hello\" and then left.\n"
     ]
    }
   ],
   "source": [
    "print('She said: \"Hello\" and then left.')"
   ]
  },
  {
   "cell_type": "code",
   "execution_count": 7,
   "metadata": {},
   "outputs": [
    {
     "name": "stdout",
     "output_type": "stream",
     "text": [
      "She said: \"Hello\" and then left.\n"
     ]
    }
   ],
   "source": [
    "print(\"She said: \\\"Hello\\\" and then left.\")"
   ]
  },
  {
   "cell_type": "code",
   "execution_count": 8,
   "metadata": {},
   "outputs": [
    {
     "name": "stdout",
     "output_type": "stream",
     "text": [
      "A 'single quote' inside a double quote\n",
      "A \"double quote\" inside a single quote\n",
      "Alternatively you can just \"escape\" the quote\n"
     ]
    }
   ],
   "source": [
    "print(\"A 'single quote' inside a double quote\")\n",
    "print('A \"double quote\" inside a single quote')\n",
    "print(\"Alternatively you can just \\\"escape\\\" the quote\")"
   ]
  },
  {
   "cell_type": "code",
   "execution_count": 9,
   "metadata": {},
   "outputs": [
    {
     "name": "stdout",
     "output_type": "stream",
     "text": [
      "Felipe\n"
     ]
    }
   ],
   "source": [
    "print(input())"
   ]
  },
  {
   "cell_type": "code",
   "execution_count": 11,
   "metadata": {},
   "outputs": [
    {
     "name": "stdout",
     "output_type": "stream",
     "text": [
      "Hello \n"
     ]
    }
   ],
   "source": [
    "print(\"Hello \" + input(\"What's your name\"))"
   ]
  },
  {
   "cell_type": "code",
   "execution_count": 12,
   "metadata": {},
   "outputs": [
    {
     "name": "stdout",
     "output_type": "stream",
     "text": [
      "6\n"
     ]
    }
   ],
   "source": [
    "name = input(\"What's your name\")\n",
    "print(len(name))"
   ]
  },
  {
   "cell_type": "markdown",
   "metadata": {},
   "source": [
    "#1. Create a greeting for your program.\n",
    "\n",
    "#2. Ask the user for the city that they grew up in.\n",
    "\n",
    "#3. Ask the user for the name of a pet.\n",
    "\n",
    "#4. Combine the name of their city and pet and show them their band name.\n",
    "\n",
    "#5. Make sure the input cursor shows on a new line:\n",
    "\n",
    "# Solution: https://replit.com/@appbrewery/band-name-generator-end"
   ]
  },
  {
   "cell_type": "code",
   "execution_count": 15,
   "metadata": {},
   "outputs": [
    {
     "name": "stdout",
     "output_type": "stream",
     "text": [
      "Your new band name is:  Felipe Maipu Cuchita\n"
     ]
    }
   ],
   "source": [
    "name = input(\"What's your name?:\\n\")\n",
    "city = input(\"What's your city in grew up in?:\\n\")\n",
    "pet_name = input(\"What's your pet name?:\\n\")\n",
    "\n",
    "complete_name = \"Your new band name is: \" + \" \"+ name + \" \"+ city +\" \"+ pet_name\n",
    "#complete_name = f\"Your new band name is: {name} {city} {pet_name}\"\n",
    "print(complete_name)"
   ]
  },
  {
   "cell_type": "code",
   "execution_count": 1,
   "metadata": {},
   "outputs": [
    {
     "name": "stdout",
     "output_type": "stream",
     "text": [
      "You have 2756 weeks left.\n"
     ]
    }
   ],
   "source": [
    "age = input()\n",
    "# 🚨 Don't change the code above 👆\n",
    "# Write your code below this line 👇\n",
    "age_int = int(age)\n",
    "\n",
    "weeks_left = (90 - age_int) * 52\n",
    "print(f\"You have {weeks_left} weeks left.\")"
   ]
  },
  {
   "cell_type": "code",
   "execution_count": 1,
   "metadata": {},
   "outputs": [
    {
     "name": "stdout",
     "output_type": "stream",
     "text": [
      "0\n"
     ]
    }
   ],
   "source": [
    "# 1st input: enter height in meters e.g: 1.65\n",
    "height = input()\n",
    "# 2nd input: enter weight in kilograms e.g: 72\n",
    "weight = input()\n",
    "# 🚨 Don't change the code above 👆\n",
    "\n",
    "# Write your code below this line 👇\n",
    "bmi = int(weight) / float(float(height)* float(height))\n",
    "print(int(bmi))"
   ]
  }
 ],
 "metadata": {
  "kernelspec": {
   "display_name": "base",
   "language": "python",
   "name": "python3"
  },
  "language_info": {
   "codemirror_mode": {
    "name": "ipython",
    "version": 3
   },
   "file_extension": ".py",
   "mimetype": "text/x-python",
   "name": "python",
   "nbconvert_exporter": "python",
   "pygments_lexer": "ipython3",
   "version": "3.11.0"
  }
 },
 "nbformat": 4,
 "nbformat_minor": 2
}
