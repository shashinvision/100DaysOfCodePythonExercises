{
 "cells": [
  {
   "cell_type": "code",
   "execution_count": 36,
   "metadata": {},
   "outputs": [
    {
     "name": "stdout",
     "output_type": "stream",
     "text": [
      "visa\n",
      "['_', '_', '_', '_']\n",
      "Wrong\n",
      "Wrong\n",
      "Wrong\n",
      "Right\n",
      "['_', '_', '_', 'a']\n"
     ]
    }
   ],
   "source": [
    "import random\n",
    "\n",
    "words = [\"casa\", \"mesa\", \"techo\", \"perro\", \"comida\", \"estacion\", \"visa\"]\n",
    "\n",
    "letter = input(\"Whats is the first that do you want to try?:\").lower()\n",
    "\n",
    "random_chosse = random.choice(words)\n",
    "\n",
    "print(random_chosse)\n",
    "\n",
    "hide_word = []\n",
    "\n",
    "for i in range(len(random_chosse)):\n",
    "    hide_word.append(\"_\")\n",
    "\n",
    "print(hide_word)\n",
    "\n",
    "for index, element in enumerate(random_chosse):\n",
    "    if element == letter:\n",
    "        print(\"Right\")\n",
    "        hide_word[index] = letter\n",
    "    else:\n",
    "        print(\"Wrong\")\n",
    "\n",
    "print(hide_word)\n",
    "\n",
    "    "
   ]
  },
  {
   "cell_type": "code",
   "execution_count": null,
   "metadata": {},
   "outputs": [],
   "source": []
  }
 ],
 "metadata": {
  "kernelspec": {
   "display_name": "base",
   "language": "python",
   "name": "python3"
  },
  "language_info": {
   "codemirror_mode": {
    "name": "ipython",
    "version": 3
   },
   "file_extension": ".py",
   "mimetype": "text/x-python",
   "name": "python",
   "nbconvert_exporter": "python",
   "pygments_lexer": "ipython3",
   "version": "3.11.0"
  }
 },
 "nbformat": 4,
 "nbformat_minor": 2
}
