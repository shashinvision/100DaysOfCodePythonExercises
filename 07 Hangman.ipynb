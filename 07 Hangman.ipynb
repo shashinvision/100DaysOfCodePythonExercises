{
 "cells": [
  {
   "cell_type": "code",
   "execution_count": 17,
   "metadata": {},
   "outputs": [
    {
     "name": "stdout",
     "output_type": "stream",
     "text": [
      "casa\n",
      "Error\n",
      "Right\n",
      "Error\n",
      "Right\n"
     ]
    }
   ],
   "source": [
    "import random\n",
    "\n",
    "words = [\"casa\", \"mesa\", \"techo\"]\n",
    "\n",
    "letter = input(\"Whats is the first that do you want to try?:\").lower()\n",
    "\n",
    "random_chosse = random.choice(words)\n",
    "\n",
    "print(random_chosse)\n",
    "\n",
    "for i in random_chosse:\n",
    "    if i == letter:\n",
    "        print(\"Right\")\n",
    "    else:\n",
    "        print(\"Wrong\")\n",
    "        \n",
    "\n",
    "    "
   ]
  },
  {
   "cell_type": "code",
   "execution_count": null,
   "metadata": {},
   "outputs": [],
   "source": []
  }
 ],
 "metadata": {
  "kernelspec": {
   "display_name": "base",
   "language": "python",
   "name": "python3"
  },
  "language_info": {
   "codemirror_mode": {
    "name": "ipython",
    "version": 3
   },
   "file_extension": ".py",
   "mimetype": "text/x-python",
   "name": "python",
   "nbconvert_exporter": "python",
   "pygments_lexer": "ipython3",
   "version": "3.11.0"
  }
 },
 "nbformat": 4,
 "nbformat_minor": 2
}
