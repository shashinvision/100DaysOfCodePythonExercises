{
 "cells": [
  {
   "cell_type": "code",
   "execution_count": 8,
   "metadata": {},
   "outputs": [
    {
     "name": "stdout",
     "output_type": "stream",
     "text": [
      "Welcome to Rocks, Papers and Scissors, please make your choise!!!\n",
      "Your Choose is:\n",
      "\n",
      "    _______\n",
      "---'   ____)____\n",
      "          ______)\n",
      "          _______)\n",
      "         _______)\n",
      "---.__________)\n",
      "\n",
      "Machine Choose is:\n",
      "\n",
      "    _______\n",
      "---'   ____)____\n",
      "          ______)\n",
      "       __________)\n",
      "      (____)\n",
      "---.__(___)\n",
      "\n",
      "You lose!!!\n"
     ]
    }
   ],
   "source": [
    "rock = '''\n",
    "    _______\n",
    "---'   ____)\n",
    "      (_____)\n",
    "      (_____)\n",
    "      (____)\n",
    "---.__(___)\n",
    "'''\n",
    "\n",
    "paper = '''\n",
    "    _______\n",
    "---'   ____)____\n",
    "          ______)\n",
    "          _______)\n",
    "         _______)\n",
    "---.__________)\n",
    "'''\n",
    "\n",
    "scissors = '''\n",
    "    _______\n",
    "---'   ____)____\n",
    "          ______)\n",
    "       __________)\n",
    "      (____)\n",
    "---.__(___)\n",
    "'''\n",
    "\n",
    "#Write your code below this line 👇\n",
    "import random\n",
    "print(\"Welcome to Rocks, Papers and Scissors, please make your choise!!!\")\n",
    "choise = int(input(\"What do you choose?, Type 0 for Rocks, 1 for Papers and 2 for Scissors:\"))\n",
    "machine_choise = random.randint(0,2)\n",
    "\n",
    "matriz = [rock, paper, scissors]\n",
    "\n",
    "print(\"Your Choose is:\")\n",
    "print(matriz[choise])\n",
    "\n",
    "print(\"Machine Choose is:\")\n",
    "print(matriz[machine_choise])\n",
    "\n",
    "if choise == 0 and machine_choise == 2:\n",
    "    print(\"You Win!!!\")\n",
    "elif choise == 1 and machine_choise == 0:\n",
    "    print(\"You Win!!!\")\n",
    "elif choise == 2 and machine_choise == 1:\n",
    "    print(\"You Win!!!\")\n",
    "elif choise == machine_choise:\n",
    "    print(\"Tie!!!\")\n",
    "else:\n",
    "    print(\"You lose!!!\")\n",
    "\n"
   ]
  }
 ],
 "metadata": {
  "kernelspec": {
   "display_name": "base",
   "language": "python",
   "name": "python3"
  },
  "language_info": {
   "codemirror_mode": {
    "name": "ipython",
    "version": 3
   },
   "file_extension": ".py",
   "mimetype": "text/x-python",
   "name": "python",
   "nbconvert_exporter": "python",
   "pygments_lexer": "ipython3",
   "version": "3.11.7"
  }
 },
 "nbformat": 4,
 "nbformat_minor": 2
}
