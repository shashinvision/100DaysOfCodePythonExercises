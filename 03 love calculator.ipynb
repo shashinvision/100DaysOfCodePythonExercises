{
 "cells": [
  {
   "cell_type": "code",
   "execution_count": null,
   "metadata": {},
   "outputs": [],
   "source": [
    "print(\"The Love Calculator is calculating your score...\")\n",
    "name1 = input() # What is your name?\n",
    "name2 = input() # What is their name?\n",
    "# 🚨 Don't change the code above 👆\n",
    "# Write your code below this line 👇\n",
    "\n",
    "merge = name1 + name2\n",
    "\n",
    "lower_name = merge.lower()\n",
    "\n",
    "t = lower_name.count(\"t\")\n",
    "r = lower_name.count(\"r\")\n",
    "u = lower_name.count(\"u\")\n",
    "e = lower_name.count(\"e\")\n",
    "\n",
    "first = t + r + u + e\n",
    "\n",
    "l = lower_name.count(\"l\")\n",
    "o = lower_name.count(\"o\")\n",
    "v = lower_name.count(\"v\")\n",
    "e = lower_name.count(\"e\")\n",
    "\n",
    "second = l + o + v + e\n",
    "\n",
    "score = int(str(first) + str(second))\n",
    "\n",
    "if (score < 10) or (score > 90):\n",
    "  print(f\"Your score is {score}, you go together like coke and mentos.\")\n",
    "elif (score >= 40) and (score <= 50):\n",
    "  print(f\"Your score is {score}, you are alright together.\")\n",
    "else:\n",
    "  print(f\"Your score is {score}.\")\n"
   ]
  }
 ],
 "metadata": {
  "language_info": {
   "name": "python"
  }
 },
 "nbformat": 4,
 "nbformat_minor": 2
}
