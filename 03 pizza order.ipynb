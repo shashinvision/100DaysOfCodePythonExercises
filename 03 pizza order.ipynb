{
 "cells": [
  {
   "cell_type": "code",
   "execution_count": null,
   "metadata": {},
   "outputs": [],
   "source": [
    "print(\"Thank you for choosing Python Pizza Deliveries!\")\n",
    "size = input() # What size pizza do you want? S, M, or L\n",
    "add_pepperoni = input() # Do you want pepperoni? Y or N\n",
    "extra_cheese = input() # Do you want extra cheese? Y or N\n",
    "# 🚨 Don't change the code above 👆\n",
    "# Write your code below this line 👇\n",
    "\n",
    "price = 0\n",
    "\n",
    "if size == \"S\":\n",
    "  price = 15\n",
    "elif size == \"M\":\n",
    "  price = 20\n",
    "elif size == \"L\":\n",
    "  price = 25\n",
    "\n",
    "if add_pepperoni == \"Y\":\n",
    "  if size == \"S\":\n",
    "    price +=2\n",
    "  if size == \"M\" or size == \"L\":\n",
    "    price +=3\n",
    "\n",
    "if extra_cheese == \"Y\":\n",
    "    price +=1\n",
    "\n",
    "print(f\"Your final bill is: ${price}.\")\n"
   ]
  }
 ],
 "metadata": {
  "language_info": {
   "name": "python"
  }
 },
 "nbformat": 4,
 "nbformat_minor": 2
}
