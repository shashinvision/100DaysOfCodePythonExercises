{
 "cells": [
  {
   "cell_type": "code",
   "execution_count": null,
   "metadata": {},
   "outputs": [],
   "source": [
    "import unicodedata\n",
    "\n",
    "def normalize_english(input_str):\n",
    "    # Map of accented characters to their replacements\n",
    "    replacements = {\n",
    "        'á': 'a', 'é': 'e', 'í': 'i', 'ó': 'o', 'ú': 'u',\n",
    "        'Á': 'A', 'É': 'E', 'Í': 'I', 'Ó': 'O', 'Ú': 'U',\n",
    "        'ñ': 'n', 'Ñ': 'N'\n",
    "    }\n",
    "    \n",
    "    # Replace each character in the string if it is in the replacements map\n",
    "    output_str = ''.join(replacements.get(c, c) for c in input_str)\n",
    "    \n",
    "    return output_str\n",
    "\n",
    "# Example usage\n",
    "input_str = \"El niño está comiendo piña y jalapeños\"\n",
    "normalized_str = normalize_english(input_str)\n",
    "print(normalized_str)\n"
   ]
  }
 ],
 "metadata": {
  "language_info": {
   "name": "python"
  }
 },
 "nbformat": 4,
 "nbformat_minor": 2
}
