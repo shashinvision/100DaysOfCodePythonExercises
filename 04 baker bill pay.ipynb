{
 "cells": [
  {
   "cell_type": "code",
   "execution_count": 7,
   "metadata": {},
   "outputs": [
    {
     "name": "stdout",
     "output_type": "stream",
     "text": [
      "['Angela', 'Ben', 'Jenny', 'Michael', 'Chloe']\n",
      "Chloe is going to buy the meal today!\n"
     ]
    }
   ],
   "source": [
    "names = ['Angela', 'Ben', 'Jenny', 'Michael', 'Chloe']\n",
    "\n",
    "# You are working in a team of developers.\n",
    "# Another developer has written the code to import the names in the inputs\n",
    "# You can run the code to see what this names list looks like.\n",
    "# Then change the names in the input to see how it imports the names.\n",
    "# print(names)\n",
    "# 🚨 Remember to remove the print statement above when you submit.\n",
    "import random\n",
    "random_name = random.choice(names)\n",
    "print(f\"{random_name} is going to buy the meal today!\")\n",
    "\n"
   ]
  },
  {
   "cell_type": "code",
   "execution_count": 8,
   "metadata": {},
   "outputs": [
    {
     "name": "stdout",
     "output_type": "stream",
     "text": [
      "Michael\n"
     ]
    }
   ],
   "source": [
    "names_string = \"Angela, Ben, Jenny, Michael, Chloe\"\n",
    "names = names_string.split(\", \")\n",
    "\n",
    "import random\n",
    "\n",
    "# Get the total number of items in list.\n",
    "num_items = len(names)\n",
    "# Generate random numbers between 0 and the last index. \n",
    "random_choice = random.randint(0, num_items - 1)\n",
    "# Choose and print a random name.\n",
    "print(names[random_choice])\n"
   ]
  }
 ],
 "metadata": {
  "kernelspec": {
   "display_name": "base",
   "language": "python",
   "name": "python3"
  },
  "language_info": {
   "codemirror_mode": {
    "name": "ipython",
    "version": 3
   },
   "file_extension": ".py",
   "mimetype": "text/x-python",
   "name": "python",
   "nbconvert_exporter": "python",
   "pygments_lexer": "ipython3",
   "version": "3.11.7"
  }
 },
 "nbformat": 4,
 "nbformat_minor": 2
}
