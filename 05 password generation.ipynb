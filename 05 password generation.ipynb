{
 "cells": [
  {
   "cell_type": "code",
   "execution_count": 17,
   "metadata": {},
   "outputs": [
    {
     "name": "stdout",
     "output_type": "stream",
     "text": [
      "Welcome to the PyPassword Generator!\n",
      "Your Password is: e91ze1\n"
     ]
    }
   ],
   "source": [
    "#Password Generator Project\n",
    "import random\n",
    "letters = ['a', 'b', 'c', 'd', 'e', 'f', 'g', 'h', 'i', 'j', 'k', 'l', 'm', 'n', 'o', 'p', 'q', 'r', 's', 't', 'u', 'v', 'w', 'x', 'y', 'z', 'A', 'B', 'C', 'D', 'E', 'F', 'G', 'H', 'I', 'J', 'K', 'L', 'M', 'N', 'O', 'P', 'Q', 'R', 'S', 'T', 'U', 'V', 'W', 'X', 'Y', 'Z']\n",
    "numbers = ['0', '1', '2', '3', '4', '5', '6', '7', '8', '9']\n",
    "symbols = ['!', '#', '$', '%', '&', '(', ')', '*', '+']\n",
    "\n",
    "print(\"Welcome to the PyPassword Generator!\")\n",
    "nr_letters= int(input(\"How many letters would you like in your password?\\n\")) \n",
    "nr_symbols = int(input(f\"How many symbols would you like?\\n\"))\n",
    "nr_numbers = int(input(f\"How many numbers would you like?\\n\"))\n",
    "\n",
    "#Eazy Level - Order not randomised:\n",
    "#e.g. 4 letter, 2 symbol, 2 number = JduE&!91\n",
    "\n",
    "\n",
    "#Hard Level - Order of characters randomised:\n",
    "#e.g. 4 letter, 2 symbol, 2 number = g^2jk8&P\n",
    "\n",
    "letters_acumulate = []\n",
    "symbols_acumulate = []\n",
    "numbers_acumulate = []\n",
    "full_password = []\n",
    "for i in range(0, nr_letters):\n",
    "    letters_acumulate.append(letters[random.randrange(0, len(letters))])\n",
    "    \n",
    "for i in range(0, nr_symbols):\n",
    "    symbols_acumulate.append(symbols[random.randrange(0, len(symbols))])\n",
    "    \n",
    "for i in range(0, nr_numbers):\n",
    "    numbers_acumulate.append(numbers[random.randrange(0, len(numbers))])\n",
    "    \n",
    "full_list = letters_acumulate + symbols_acumulate + numbers_acumulate\n",
    "\n",
    "password_len = nr_letters + nr_symbols + nr_numbers\n",
    "\n",
    "for i in range(0, password_len):\n",
    "    full_password.append(full_list[random.randrange(0, len(full_list))])\n",
    "\n",
    "password_str = \"\".join(full_password)\n",
    "\n",
    "print(f\"Your Password is: {password_str}\")\n"
   ]
  }
 ],
 "metadata": {
  "kernelspec": {
   "display_name": "base",
   "language": "python",
   "name": "python3"
  },
  "language_info": {
   "codemirror_mode": {
    "name": "ipython",
    "version": 3
   },
   "file_extension": ".py",
   "mimetype": "text/x-python",
   "name": "python",
   "nbconvert_exporter": "python",
   "pygments_lexer": "ipython3",
   "version": "3.11.0"
  }
 },
 "nbformat": 4,
 "nbformat_minor": 2
}
