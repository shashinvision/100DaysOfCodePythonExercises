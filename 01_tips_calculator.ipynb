{
 "cells": [
  {
   "cell_type": "code",
   "execution_count": 7,
   "metadata": {},
   "outputs": [
    {
     "name": "stdout",
     "output_type": "stream",
     "text": [
      "Each person should pay: 35.29\n"
     ]
    }
   ],
   "source": [
    "welcome_message = \"Welcome to the tip calculator!\"\n",
    "cost = float(input(\"What was the total bill? \"))\n",
    "tip = int(input(\"How much tip would you like to give? 10, 12, 0r 15? \"))\n",
    "people = int(input(\"Hoq many people to split the bill? \"))\n",
    "\n",
    "percentage = tip / 100\n",
    "pay_per_person = round(((cost * percentage) + cost) / people, 2)\n",
    "\n",
    "print(f\"Each person should pay: ${pay_per_person}\")"
   ]
  }
 ],
 "metadata": {
  "kernelspec": {
   "display_name": "base",
   "language": "python",
   "name": "python3"
  },
  "language_info": {
   "codemirror_mode": {
    "name": "ipython",
    "version": 3
   },
   "file_extension": ".py",
   "mimetype": "text/x-python",
   "name": "python",
   "nbconvert_exporter": "python",
   "pygments_lexer": "ipython3",
   "version": "3.11.0"
  }
 },
 "nbformat": 4,
 "nbformat_minor": 2
}
