{
 "cells": [
  {
   "cell_type": "code",
   "execution_count": null,
   "metadata": {},
   "outputs": [],
   "source": [
    "# Enter your height in meters e.g., 1.55\n",
    "height = float(input())\n",
    "# Enter your weight in kilograms e.g., 72\n",
    "weight = int(input())\n",
    "# 🚨 Don't change the code above 👆\n",
    "\n",
    "#Write your code below this line 👇\n",
    "\n",
    "bmi =  weight / height ** 2\n",
    "\n",
    "if bmi < 18.5:\n",
    "  print(f\"Your BMI is {bmi}, you are underweight.\")\n",
    "elif bmi >= 18.5 and bmi < 25:\n",
    "  print(f\"Your BMI is {bmi}, you have a normal weight.\")\n",
    "elif bmi >= 25 and bmi <= 30:\n",
    "  print(f\"Your BMI is {bmi}, you are slightly overweight.\")\n",
    "elif bmi >= 30 and bmi <= 35:\n",
    "  print(f\"Your BMI is {bmi}, you are obese.\")\n",
    "elif bmi >= 35:\n",
    "  print(f\"Your BMI is {bmi}, you are clinically obese.\")\n",
    "\n"
   ]
  }
 ],
 "metadata": {
  "language_info": {
   "name": "python"
  }
 },
 "nbformat": 4,
 "nbformat_minor": 2
}
