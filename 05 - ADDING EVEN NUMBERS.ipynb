{
 "cells": [
  {
   "cell_type": "code",
   "execution_count": 1,
   "metadata": {},
   "outputs": [
    {
     "name": "stdout",
     "output_type": "stream",
     "text": [
      "702\n"
     ]
    }
   ],
   "source": [
    "target = int(input()) # Enter a number between 0 and 1000\n",
    "# 🚨 Do not change the code above ☝️\n",
    "\n",
    "# Write your code here 👇\n",
    "even_sum=0\n",
    "for number in range(2, target+1, 2):\n",
    "    even_sum+=number\n",
    "print(even_sum)\n",
    "\n",
    "# or\n",
    "\n",
    "# alternative_sum = 0\n",
    "# for number in range(1, target + 1):\n",
    "#   if number % 2 == 0:\n",
    "#     alternative_sum += number\n",
    "# print(alternative_sum)"
   ]
  }
 ],
 "metadata": {
  "kernelspec": {
   "display_name": "base",
   "language": "python",
   "name": "python3"
  },
  "language_info": {
   "codemirror_mode": {
    "name": "ipython",
    "version": 3
   },
   "file_extension": ".py",
   "mimetype": "text/x-python",
   "name": "python",
   "nbconvert_exporter": "python",
   "pygments_lexer": "ipython3",
   "version": "3.11.0"
  }
 },
 "nbformat": 4,
 "nbformat_minor": 2
}
