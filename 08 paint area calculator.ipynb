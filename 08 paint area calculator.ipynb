{
 "cells": [
  {
   "cell_type": "code",
   "execution_count": null,
   "metadata": {},
   "outputs": [],
   "source": [
    "# Write your code below this line 👇\n",
    "def paint_calc(height, width, cover):\n",
    "  cans = (height * width) / cover\n",
    "  if round(cans) < cans:\n",
    "    cans = round(cans)+1\n",
    "    \n",
    "  print(f\"You'll need {round(cans)} cans of paint.\")\n",
    "\n",
    "\n",
    "\n",
    "# Write your code above this line 👆\n",
    "# Define a function called paint_calc() so the code below works.   \n",
    "\n",
    "# 🚨 Don't change the code below 👇\n",
    "test_h = int(input()) # Height of wall (m)\n",
    "test_w = int(input()) # Width of wall (m)\n",
    "coverage = 5\n",
    "paint_calc(height=test_h, width=test_w, cover=coverage)\n"
   ]
  },
  {
   "cell_type": "code",
   "execution_count": null,
   "metadata": {},
   "outputs": [],
   "source": [
    "import math\n",
    "\n",
    "def paint_calc(height, width, cover):\n",
    "  num_cans = (height * width) / cover\n",
    "  round_up_cans = math.ceil(num_cans)\n",
    "  print(f\"You'll need {round_up_cans} cans of paint.\")\n",
    "\n",
    "# Your code above this line 👆\n",
    "test_h = int(input()) # Height of wall (m)\n",
    "test_w = int(input()) # Width of wall (m)\n",
    "coverage = 5\n",
    "paint_calc(height=test_h, width=test_w, cover=coverage)"
   ]
  }
 ],
 "metadata": {
  "language_info": {
   "name": "python"
  }
 },
 "nbformat": 4,
 "nbformat_minor": 2
}
